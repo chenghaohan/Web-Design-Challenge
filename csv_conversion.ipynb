{
 "metadata": {
  "language_info": {
   "codemirror_mode": {
    "name": "ipython",
    "version": 3
   },
   "file_extension": ".py",
   "mimetype": "text/x-python",
   "name": "python",
   "nbconvert_exporter": "python",
   "pygments_lexer": "ipython3",
   "version": "3.7.3-final"
  },
  "orig_nbformat": 2,
  "kernelspec": {
   "name": "python3",
   "display_name": "Python 3.7.3 64-bit ('hanch': virtualenv)",
   "metadata": {
    "interpreter": {
     "hash": "e36466f452120f0116d34fcfce8ede4c447b6b5dcab3000bf9067b5eda8a0a47"
    }
   }
  }
 },
 "nbformat": 4,
 "nbformat_minor": 2,
 "cells": [
  {
   "cell_type": "code",
   "execution_count": 1,
   "metadata": {},
   "outputs": [],
   "source": [
    "#This python book is used to convert the given csv data to html the pass the data into html table\n",
    "import os\n",
    "import pandas as pd\n",
    "file_path = os.path.join(\"cities.csv\")\n",
    "df = pd.read_csv(file_path)\n",
    "df.to_html(\"city_table.html\", index= False, classes = ['table', 'table-striped','table-hover'])\n"
   ]
  }
 ]
}